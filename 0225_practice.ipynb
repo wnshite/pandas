{
 "cells": [
  {
   "cell_type": "markdown",
   "id": "36078b46-3bac-4b93-8b2c-ce9b50085bc8",
   "metadata": {},
   "source": [
    "# 04, 05 practice"
   ]
  },
  {
   "cell_type": "code",
   "execution_count": 2,
   "id": "d980beb8-05c5-48c6-ba97-6a5a053d260e",
   "metadata": {},
   "outputs": [],
   "source": [
    "import seaborn as sns\n",
    "import pandas as pd"
   ]
  },
  {
   "cell_type": "code",
   "execution_count": null,
   "id": "da40fbf9-9b28-44f0-9c07-595ba539befb",
   "metadata": {},
   "outputs": [],
   "source": []
  }
 ],
 "metadata": {
  "kernelspec": {
   "display_name": "Python 3 (ipykernel)",
   "language": "python",
   "name": "python3"
  },
  "language_info": {
   "codemirror_mode": {
    "name": "ipython",
    "version": 3
   },
   "file_extension": ".py",
   "mimetype": "text/x-python",
   "name": "python",
   "nbconvert_exporter": "python",
   "pygments_lexer": "ipython3",
   "version": "3.13.2"
  }
 },
 "nbformat": 4,
 "nbformat_minor": 5
}
