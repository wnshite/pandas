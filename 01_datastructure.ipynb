{
 "cells": [
  {
   "cell_type": "markdown",
   "id": "4f67df2a-c95d-48b5-b1cc-6d19a70657ae",
   "metadata": {},
   "source": [
    "## Series\n",
    "\n",
    "- pandas에서 사용하는 1차원 배열\n",
    "- index를 사용할 수 있다."
   ]
  },
  {
   "cell_type": "code",
   "execution_count": 8,
   "id": "b5d3b32d-5420-47e4-a707-dc5a9ea95bb1",
   "metadata": {},
   "outputs": [],
   "source": [
    "import pandas as pd\n",
    "import numpy as np"
   ]
  },
  {
   "cell_type": "code",
   "execution_count": 9,
   "id": "f300f497-e5a9-4afd-8d38-8795d160a26c",
   "metadata": {},
   "outputs": [
    {
     "name": "stdout",
     "output_type": "stream",
     "text": [
      "[100 101 102 103 104 105 106 107 108 109]\n"
     ]
    }
   ],
   "source": [
    "arr = np.arange(100, 110)\n",
    "print(arr)"
   ]
  },
  {
   "cell_type": "code",
   "execution_count": 10,
   "id": "91afefd3-30f8-41d3-8cb7-dcaa2b59cd28",
   "metadata": {},
   "outputs": [
    {
     "name": "stdout",
     "output_type": "stream",
     "text": [
      "0    100\n",
      "1    101\n",
      "2    102\n",
      "3    103\n",
      "4    104\n",
      "5    105\n",
      "6    106\n",
      "7    107\n",
      "8    108\n",
      "9    109\n",
      "dtype: int64\n"
     ]
    }
   ],
   "source": [
    "s = pd.Series(arr)        # -> 대문자? 클래스.\n",
    "print(s)"
   ]
  },
  {
   "cell_type": "code",
   "execution_count": 18,
   "id": "2e3a027b-e944-4a4b-9eb0-35ebae71e131",
   "metadata": {},
   "outputs": [
    {
     "name": "stdout",
     "output_type": "stream",
     "text": [
      "0    100.0\n",
      "1    101.0\n",
      "2    102.0\n",
      "3    103.0\n",
      "4    104.0\n",
      "5    105.0\n",
      "6    106.0\n",
      "7    107.0\n",
      "8    108.0\n",
      "9    109.0\n",
      "dtype: float32\n"
     ]
    }
   ],
   "source": [
    "s = pd.Series(arr, dtype='float32')\n",
    "print(s)"
   ]
  },
  {
   "cell_type": "code",
   "execution_count": 19,
   "id": "a76904d3-74a8-46bf-b78f-9c97108df1f2",
   "metadata": {},
   "outputs": [
    {
     "name": "stdout",
     "output_type": "stream",
     "text": [
      "0    kim\n",
      "1    lee\n",
      "2    pyo\n",
      "dtype: object\n"
     ]
    }
   ],
   "source": [
    "s = pd.Series(['kim', 'lee', 'pyo'])\n",
    "print(s)"
   ]
  },
  {
   "cell_type": "code",
   "execution_count": 23,
   "id": "6521d81b-c5ce-4025-bebe-044ef2bcc403",
   "metadata": {},
   "outputs": [
    {
     "name": "stdout",
     "output_type": "stream",
     "text": [
      "0        1\n",
      "1        2\n",
      "2        3\n",
      "3        1\n",
      "4        2\n",
      "5    hello\n",
      "dtype: object\n"
     ]
    }
   ],
   "source": [
    "s = pd.Series([1, 2, 3, '1', '2', 'hello'])\n",
    "print(s)"
   ]
  },
  {
   "cell_type": "code",
   "execution_count": 24,
   "id": "4b0de3a4-33ff-4820-9e9d-95359c91e606",
   "metadata": {},
   "outputs": [
    {
     "data": {
      "text/plain": [
       "'hello'"
      ]
     },
     "execution_count": 24,
     "metadata": {},
     "output_type": "execute_result"
    }
   ],
   "source": [
    "s[5]"
   ]
  },
  {
   "cell_type": "code",
   "execution_count": 26,
   "id": "b0c75568-ba32-40b1-ad8f-5c7446c17cc1",
   "metadata": {},
   "outputs": [],
   "source": [
    "# 음수 인덱싱은 지원하지 않음\n",
    "# s[-1]"
   ]
  },
  {
   "cell_type": "code",
   "execution_count": 27,
   "id": "8598301d-bba0-42c8-99b6-875d6255b472",
   "metadata": {},
   "outputs": [
    {
     "data": {
      "text/plain": [
       "RangeIndex(start=0, stop=6, step=1)"
      ]
     },
     "execution_count": 27,
     "metadata": {},
     "output_type": "execute_result"
    }
   ],
   "source": [
    "s.index"
   ]
  },
  {
   "cell_type": "code",
   "execution_count": 35,
   "id": "db06f2eb-44c5-417e-b06b-4db339c383c9",
   "metadata": {},
   "outputs": [],
   "source": [
    "names = pd.Series(['kim', 'lee', 'park'], index=['a', 'b', 'c'])   ##-> 인덱스를 문자로도 기입 가능."
   ]
  },
  {
   "cell_type": "code",
   "execution_count": 42,
   "id": "bc40e6c6-d816-4454-90e7-0b1f1f79819e",
   "metadata": {},
   "outputs": [
    {
     "data": {
      "text/plain": [
       "'kim'"
      ]
     },
     "execution_count": 42,
     "metadata": {},
     "output_type": "execute_result"
    }
   ],
   "source": [
    "# names[0]\n",
    "names.iloc[0]"
   ]
  },
  {
   "cell_type": "code",
   "execution_count": 43,
   "id": "7838ec0f-781b-4375-8989-bb00c2d065a3",
   "metadata": {},
   "outputs": [
    {
     "data": {
      "text/plain": [
       "'kim'"
      ]
     },
     "execution_count": 43,
     "metadata": {},
     "output_type": "execute_result"
    }
   ],
   "source": [
    "names['a']"
   ]
  },
  {
   "cell_type": "code",
   "execution_count": 44,
   "id": "1ab43492-0c9e-41c9-aca0-e11162b13ab8",
   "metadata": {},
   "outputs": [
    {
     "data": {
      "text/plain": [
       "Index(['a', 'b', 'c'], dtype='object')"
      ]
     },
     "execution_count": 44,
     "metadata": {},
     "output_type": "execute_result"
    }
   ],
   "source": [
    "names.index"
   ]
  },
  {
   "cell_type": "code",
   "execution_count": 46,
   "id": "c3684d6d-e7a2-4261-b3ab-9f14a9234c3e",
   "metadata": {},
   "outputs": [
    {
     "data": {
      "text/plain": [
       "array(['kim', 'lee', 'park'], dtype=object)"
      ]
     },
     "execution_count": 46,
     "metadata": {},
     "output_type": "execute_result"
    }
   ],
   "source": [
    "names.values"
   ]
  },
  {
   "cell_type": "code",
   "execution_count": 47,
   "id": "98bb92f4-8c39-47dd-ac34-f0aa9ef17a33",
   "metadata": {},
   "outputs": [
    {
     "data": {
      "text/plain": [
       "1"
      ]
     },
     "execution_count": 47,
     "metadata": {},
     "output_type": "execute_result"
    }
   ],
   "source": [
    "names.ndim"
   ]
  },
  {
   "cell_type": "code",
   "execution_count": 48,
   "id": "3e9027f8-ca17-4ed3-8c2e-534b77806cf8",
   "metadata": {},
   "outputs": [
    {
     "data": {
      "text/plain": [
       "(3,)"
      ]
     },
     "execution_count": 48,
     "metadata": {},
     "output_type": "execute_result"
    }
   ],
   "source": [
    "names.shape"
   ]
  },
  {
   "cell_type": "markdown",
   "id": "b1dc6358-1580-44a5-a0bf-36ad21c4d393",
   "metadata": {},
   "source": [
    "## NaN(Not a Number)"
   ]
  },
  {
   "cell_type": "code",
   "execution_count": 51,
   "id": "436f2e1d-1495-4f01-aae2-fa7c0136c7b2",
   "metadata": {},
   "outputs": [
    {
     "name": "stdout",
     "output_type": "stream",
     "text": [
      "0    1.0\n",
      "1    2.0\n",
      "2    3.0\n",
      "3    NaN\n",
      "dtype: float64\n"
     ]
    }
   ],
   "source": [
    "s = pd.Series([1, 2, 3, np.nan])\n",
    "print(s)"
   ]
  },
  {
   "cell_type": "markdown",
   "id": "560171c0-dbc6-4d98-b316-04fa08ac52f7",
   "metadata": {},
   "source": [
    "## fancy indexing"
   ]
  },
  {
   "cell_type": "code",
   "execution_count": 55,
   "id": "98218d1e-64ed-4b42-a7b2-a2fc2c79afc6",
   "metadata": {},
   "outputs": [
    {
     "name": "stdout",
     "output_type": "stream",
     "text": [
      "a    banna\n",
      "b    apple\n",
      "c    grape\n",
      "d      NaN\n",
      "dtype: object\n"
     ]
    }
   ],
   "source": [
    "f = ['banna', 'apple', 'grape', np.nan]\n",
    "s = pd.Series(f, index=list('abcd'))\n",
    "print(s)"
   ]
  },
  {
   "cell_type": "code",
   "execution_count": 57,
   "id": "feb63472-8219-4add-8075-06c52528bafc",
   "metadata": {},
   "outputs": [
    {
     "data": {
      "text/plain": [
       "d      NaN\n",
       "a    banna\n",
       "dtype: object"
      ]
     },
     "execution_count": 57,
     "metadata": {},
     "output_type": "execute_result"
    }
   ],
   "source": [
    "s[['d', 'a']]"
   ]
  },
  {
   "cell_type": "code",
   "execution_count": 58,
   "id": "3f1bad51-e93c-424e-a927-ee227777c8fb",
   "metadata": {},
   "outputs": [
    {
     "name": "stderr",
     "output_type": "stream",
     "text": [
      "C:\\Users\\1-01\\AppData\\Local\\Temp\\ipykernel_5908\\1367491741.py:1: FutureWarning: Series.__getitem__ treating keys as positions is deprecated. In a future version, integer keys will always be treated as labels (consistent with DataFrame behavior). To access a value by position, use `ser.iloc[pos]`\n",
      "  s[[3, 1]]\n"
     ]
    },
    {
     "data": {
      "text/plain": [
       "d      NaN\n",
       "b    apple\n",
       "dtype: object"
      ]
     },
     "execution_count": 58,
     "metadata": {},
     "output_type": "execute_result"
    }
   ],
   "source": [
    "s[[3, 1]]"
   ]
  },
  {
   "cell_type": "markdown",
   "id": "e646bfd1-f021-4eec-ad5e-9f5acde9ea14",
   "metadata": {},
   "source": [
    "## bool indexing"
   ]
  },
  {
   "cell_type": "code",
   "execution_count": 59,
   "id": "6d176058-a4a9-477e-bc19-8c5a9a7aaaac",
   "metadata": {},
   "outputs": [
    {
     "data": {
      "text/plain": [
       "a    banna\n",
       "b    apple\n",
       "c    grape\n",
       "d      NaN\n",
       "dtype: object"
      ]
     },
     "execution_count": 59,
     "metadata": {},
     "output_type": "execute_result"
    }
   ],
   "source": [
    "s"
   ]
  },
  {
   "cell_type": "code",
   "execution_count": 60,
   "id": "cebe887b-1bca-4574-967d-340980ae41f0",
   "metadata": {},
   "outputs": [
    {
     "data": {
      "text/plain": [
       "a    banna\n",
       "c    grape\n",
       "dtype: object"
      ]
     },
     "execution_count": 60,
     "metadata": {},
     "output_type": "execute_result"
    }
   ],
   "source": [
    "s[[True, False, True, False]]"
   ]
  },
  {
   "cell_type": "code",
   "execution_count": 61,
   "id": "a235b744-4c0c-4b0d-90f5-b53201eef236",
   "metadata": {},
   "outputs": [
    {
     "data": {
      "text/plain": [
       "a    False\n",
       "b    False\n",
       "c    False\n",
       "d    False\n",
       "dtype: bool"
      ]
     },
     "execution_count": 61,
     "metadata": {},
     "output_type": "execute_result"
    }
   ],
   "source": [
    "s == 'banana'"
   ]
  },
  {
   "cell_type": "code",
   "execution_count": 62,
   "id": "d1503c00-5353-425d-96c8-bfdd16f4a1ff",
   "metadata": {},
   "outputs": [
    {
     "data": {
      "text/plain": [
       "Series([], dtype: object)"
      ]
     },
     "execution_count": 62,
     "metadata": {},
     "output_type": "execute_result"
    }
   ],
   "source": [
    "s[s == 'banana']"
   ]
  },
  {
   "cell_type": "code",
   "execution_count": 65,
   "id": "b5628035-076e-46fe-844b-2ef0ac2ee889",
   "metadata": {},
   "outputs": [
    {
     "data": {
      "text/plain": [
       "1    5\n",
       "3    8\n",
       "4    9\n",
       "5    6\n",
       "dtype: int64"
      ]
     },
     "execution_count": 65,
     "metadata": {},
     "output_type": "execute_result"
    }
   ],
   "source": [
    "s = pd.Series([1, 5, 3, 8, 9, 6])\n",
    "s[s > 3]"
   ]
  },
  {
   "cell_type": "markdown",
   "id": "f6ee6aea-ac29-4712-b6f6-d2c1ad4cd627",
   "metadata": {},
   "source": [
    "## 결측치(NaN) 처리"
   ]
  },
  {
   "cell_type": "code",
   "execution_count": 68,
   "id": "adc35a28-de40-442f-a497-77be6d41dc9d",
   "metadata": {},
   "outputs": [
    {
     "name": "stdout",
     "output_type": "stream",
     "text": [
      "0     1.0\n",
      "1     3.0\n",
      "2     NaN\n",
      "3    10.0\n",
      "4    11.0\n",
      "5     NaN\n",
      "dtype: float64\n"
     ]
    }
   ],
   "source": [
    "s = pd.Series([1, 3, np.nan, 10, 11, np.nan])\n",
    "print(s)"
   ]
  },
  {
   "cell_type": "code",
   "execution_count": 70,
   "id": "c5ab91f1-f5ad-4aad-adca-14e5ecb58b6f",
   "metadata": {},
   "outputs": [
    {
     "data": {
      "text/plain": [
       "0    False\n",
       "1    False\n",
       "2     True\n",
       "3    False\n",
       "4    False\n",
       "5     True\n",
       "dtype: bool"
      ]
     },
     "execution_count": 70,
     "metadata": {},
     "output_type": "execute_result"
    }
   ],
   "source": [
    "s.isnull()"
   ]
  },
  {
   "cell_type": "code",
   "execution_count": 77,
   "id": "19eafff6-3c3a-468a-9508-4c59250f6880",
   "metadata": {},
   "outputs": [
    {
     "data": {
      "text/plain": [
       "0    False\n",
       "1    False\n",
       "2     True\n",
       "3    False\n",
       "4    False\n",
       "5     True\n",
       "dtype: bool"
      ]
     },
     "execution_count": 77,
     "metadata": {},
     "output_type": "execute_result"
    }
   ],
   "source": [
    "# s[s.isnull()]\n",
    "s.isna()"
   ]
  },
  {
   "cell_type": "code",
   "execution_count": 78,
   "id": "ba71d964-be1e-4d18-ae6d-8ec4e60014a4",
   "metadata": {},
   "outputs": [
    {
     "data": {
      "text/plain": [
       "0     1.0\n",
       "1     3.0\n",
       "3    10.0\n",
       "4    11.0\n",
       "dtype: float64"
      ]
     },
     "execution_count": 78,
     "metadata": {},
     "output_type": "execute_result"
    }
   ],
   "source": [
    "# s[s.notnull()]\n",
    "s[s.notna()]"
   ]
  },
  {
   "cell_type": "markdown",
   "id": "5ff22546-ccac-4fae-a2fb-4c7857a758d8",
   "metadata": {},
   "source": [
    "## Slicing"
   ]
  },
  {
   "cell_type": "code",
   "execution_count": 79,
   "id": "9d42de8d-059b-4154-ba8f-dad28adb78dc",
   "metadata": {},
   "outputs": [
    {
     "data": {
      "text/plain": [
       "1    3.0\n",
       "2    NaN\n",
       "dtype: float64"
      ]
     },
     "execution_count": 79,
     "metadata": {},
     "output_type": "execute_result"
    }
   ],
   "source": [
    "s[1:3]"
   ]
  },
  {
   "cell_type": "code",
   "execution_count": 81,
   "id": "f99d4a00-8065-4e2f-92b2-5662bb4d94f4",
   "metadata": {},
   "outputs": [
    {
     "data": {
      "text/plain": [
       "a    1\n",
       "b    2\n",
       "dtype: int64"
      ]
     },
     "execution_count": 81,
     "metadata": {},
     "output_type": "execute_result"
    }
   ],
   "source": [
    "s = pd.Series([1, 2, 3], index=list('abc'))\n",
    "s[1:2]\n",
    "s['a':'b']"
   ]
  },
  {
   "cell_type": "markdown",
   "id": "69b56100-1547-4437-8429-4e284db1d7db",
   "metadata": {},
   "source": [
    "## Dataframe\n",
    "- 2차원 데이터 구조(excel, sheet와 유사)\n",
    "- 행(row), 열(column) 구조"
   ]
  },
  {
   "cell_type": "code",
   "execution_count": 89,
   "id": "b9e2999a-aaa8-4825-89f5-b750a8b76bb5",
   "metadata": {},
   "outputs": [
    {
     "data": {
      "text/html": [
       "<div>\n",
       "<style scoped>\n",
       "    .dataframe tbody tr th:only-of-type {\n",
       "        vertical-align: middle;\n",
       "    }\n",
       "\n",
       "    .dataframe tbody tr th {\n",
       "        vertical-align: top;\n",
       "    }\n",
       "\n",
       "    .dataframe thead th {\n",
       "        text-align: right;\n",
       "    }\n",
       "</style>\n",
       "<table border=\"1\" class=\"dataframe\">\n",
       "  <thead>\n",
       "    <tr style=\"text-align: right;\">\n",
       "      <th></th>\n",
       "      <th>0</th>\n",
       "      <th>1</th>\n",
       "      <th>2</th>\n",
       "    </tr>\n",
       "  </thead>\n",
       "  <tbody>\n",
       "    <tr>\n",
       "      <th>0</th>\n",
       "      <td>1</td>\n",
       "      <td>2</td>\n",
       "      <td>3</td>\n",
       "    </tr>\n",
       "    <tr>\n",
       "      <th>1</th>\n",
       "      <td>4</td>\n",
       "      <td>5</td>\n",
       "      <td>6</td>\n",
       "    </tr>\n",
       "    <tr>\n",
       "      <th>2</th>\n",
       "      <td>7</td>\n",
       "      <td>8</td>\n",
       "      <td>9</td>\n",
       "    </tr>\n",
       "  </tbody>\n",
       "</table>\n",
       "</div>"
      ],
      "text/plain": [
       "   0  1  2\n",
       "0  1  2  3\n",
       "1  4  5  6\n",
       "2  7  8  9"
      ]
     },
     "execution_count": 89,
     "metadata": {},
     "output_type": "execute_result"
    }
   ],
   "source": [
    "d = pd.DataFrame([\n",
    "    [1, 2, 3],\n",
    "    [4, 5, 6],\n",
    "    [7, 8, 9],\n",
    "])\n",
    "d"
   ]
  },
  {
   "cell_type": "code",
   "execution_count": 90,
   "id": "eac997dc-dc00-4b7f-88e9-731a4cd98a91",
   "metadata": {},
   "outputs": [
    {
     "data": {
      "text/html": [
       "<div>\n",
       "<style scoped>\n",
       "    .dataframe tbody tr th:only-of-type {\n",
       "        vertical-align: middle;\n",
       "    }\n",
       "\n",
       "    .dataframe tbody tr th {\n",
       "        vertical-align: top;\n",
       "    }\n",
       "\n",
       "    .dataframe thead th {\n",
       "        text-align: right;\n",
       "    }\n",
       "</style>\n",
       "<table border=\"1\" class=\"dataframe\">\n",
       "  <thead>\n",
       "    <tr style=\"text-align: right;\">\n",
       "      <th></th>\n",
       "      <th>가</th>\n",
       "      <th>나</th>\n",
       "      <th>다</th>\n",
       "    </tr>\n",
       "  </thead>\n",
       "  <tbody>\n",
       "    <tr>\n",
       "      <th>0</th>\n",
       "      <td>1</td>\n",
       "      <td>2</td>\n",
       "      <td>3</td>\n",
       "    </tr>\n",
       "    <tr>\n",
       "      <th>1</th>\n",
       "      <td>4</td>\n",
       "      <td>5</td>\n",
       "      <td>6</td>\n",
       "    </tr>\n",
       "    <tr>\n",
       "      <th>2</th>\n",
       "      <td>7</td>\n",
       "      <td>8</td>\n",
       "      <td>9</td>\n",
       "    </tr>\n",
       "  </tbody>\n",
       "</table>\n",
       "</div>"
      ],
      "text/plain": [
       "   가  나  다\n",
       "0  1  2  3\n",
       "1  4  5  6\n",
       "2  7  8  9"
      ]
     },
     "execution_count": 90,
     "metadata": {},
     "output_type": "execute_result"
    }
   ],
   "source": [
    "d = pd.DataFrame([\n",
    "    [1, 2, 3],\n",
    "    [4, 5, 6],\n",
    "    [7, 8, 9],\n",
    "], columns=['가', '나', '다'])\n",
    "d"
   ]
  },
  {
   "cell_type": "code",
   "execution_count": 95,
   "id": "1882fa81-a288-4b6c-9c1d-37f316593de9",
   "metadata": {},
   "outputs": [],
   "source": [
    "info = {\n",
    "    'name' : ['lee', 'pyo', 'kim'],\n",
    "    'age' : [20, 22, 21]\n",
    "}"
   ]
  },
  {
   "cell_type": "code",
   "execution_count": 96,
   "id": "3b13548d-6ca8-4fe9-84ff-3906b34f2e00",
   "metadata": {},
   "outputs": [
    {
     "data": {
      "text/html": [
       "<div>\n",
       "<style scoped>\n",
       "    .dataframe tbody tr th:only-of-type {\n",
       "        vertical-align: middle;\n",
       "    }\n",
       "\n",
       "    .dataframe tbody tr th {\n",
       "        vertical-align: top;\n",
       "    }\n",
       "\n",
       "    .dataframe thead th {\n",
       "        text-align: right;\n",
       "    }\n",
       "</style>\n",
       "<table border=\"1\" class=\"dataframe\">\n",
       "  <thead>\n",
       "    <tr style=\"text-align: right;\">\n",
       "      <th></th>\n",
       "      <th>name</th>\n",
       "      <th>age</th>\n",
       "    </tr>\n",
       "  </thead>\n",
       "  <tbody>\n",
       "    <tr>\n",
       "      <th>0</th>\n",
       "      <td>lee</td>\n",
       "      <td>20</td>\n",
       "    </tr>\n",
       "    <tr>\n",
       "      <th>1</th>\n",
       "      <td>pyo</td>\n",
       "      <td>22</td>\n",
       "    </tr>\n",
       "    <tr>\n",
       "      <th>2</th>\n",
       "      <td>kim</td>\n",
       "      <td>21</td>\n",
       "    </tr>\n",
       "  </tbody>\n",
       "</table>\n",
       "</div>"
      ],
      "text/plain": [
       "  name  age\n",
       "0  lee   20\n",
       "1  pyo   22\n",
       "2  kim   21"
      ]
     },
     "execution_count": 96,
     "metadata": {},
     "output_type": "execute_result"
    }
   ],
   "source": [
    "pd.DataFrame(info)"
   ]
  },
  {
   "cell_type": "code",
   "execution_count": 100,
   "id": "96daef11-8189-47ba-9450-ab13708846b8",
   "metadata": {},
   "outputs": [],
   "source": [
    "info_df = pd.DataFrame(info)"
   ]
  },
  {
   "cell_type": "code",
   "execution_count": 101,
   "id": "f8d206be-fff8-4f64-8c18-7fd0851ae866",
   "metadata": {},
   "outputs": [
    {
     "data": {
      "text/plain": [
       "RangeIndex(start=0, stop=3, step=1)"
      ]
     },
     "execution_count": 101,
     "metadata": {},
     "output_type": "execute_result"
    }
   ],
   "source": [
    "info_df.index"
   ]
  },
  {
   "cell_type": "code",
   "execution_count": 102,
   "id": "fae93f72-da20-4fd1-af9f-7d8e3b21137e",
   "metadata": {},
   "outputs": [
    {
     "data": {
      "text/plain": [
       "Index(['name', 'age'], dtype='object')"
      ]
     },
     "execution_count": 102,
     "metadata": {},
     "output_type": "execute_result"
    }
   ],
   "source": [
    "info_df.columns"
   ]
  },
  {
   "cell_type": "code",
   "execution_count": 104,
   "id": "d6f9d615-91d7-4982-b3e0-8ec3a205caed",
   "metadata": {},
   "outputs": [
    {
     "data": {
      "text/plain": [
       "array([['lee', 20],\n",
       "       ['pyo', 22],\n",
       "       ['kim', 21]], dtype=object)"
      ]
     },
     "execution_count": 104,
     "metadata": {},
     "output_type": "execute_result"
    }
   ],
   "source": [
    "info_df.values  # -> 안에 실제 데이터에 접근 가능."
   ]
  },
  {
   "cell_type": "code",
   "execution_count": 106,
   "id": "7522bd28-943d-4016-882e-fb3e6da084b5",
   "metadata": {},
   "outputs": [
    {
     "data": {
      "text/plain": [
       "name    object\n",
       "age      int64\n",
       "dtype: object"
      ]
     },
     "execution_count": 106,
     "metadata": {},
     "output_type": "execute_result"
    }
   ],
   "source": [
    "info_df.dtypes"
   ]
  },
  {
   "cell_type": "code",
   "execution_count": 107,
   "id": "d523d86e-b73e-41c3-bece-b577f88fe09d",
   "metadata": {},
   "outputs": [
    {
     "data": {
      "text/html": [
       "<div>\n",
       "<style scoped>\n",
       "    .dataframe tbody tr th:only-of-type {\n",
       "        vertical-align: middle;\n",
       "    }\n",
       "\n",
       "    .dataframe tbody tr th {\n",
       "        vertical-align: top;\n",
       "    }\n",
       "\n",
       "    .dataframe thead th {\n",
       "        text-align: right;\n",
       "    }\n",
       "</style>\n",
       "<table border=\"1\" class=\"dataframe\">\n",
       "  <thead>\n",
       "    <tr style=\"text-align: right;\">\n",
       "      <th></th>\n",
       "      <th>0</th>\n",
       "      <th>1</th>\n",
       "      <th>2</th>\n",
       "    </tr>\n",
       "  </thead>\n",
       "  <tbody>\n",
       "    <tr>\n",
       "      <th>name</th>\n",
       "      <td>lee</td>\n",
       "      <td>pyo</td>\n",
       "      <td>kim</td>\n",
       "    </tr>\n",
       "    <tr>\n",
       "      <th>age</th>\n",
       "      <td>20</td>\n",
       "      <td>22</td>\n",
       "      <td>21</td>\n",
       "    </tr>\n",
       "  </tbody>\n",
       "</table>\n",
       "</div>"
      ],
      "text/plain": [
       "        0    1    2\n",
       "name  lee  pyo  kim\n",
       "age    20   22   21"
      ]
     },
     "execution_count": 107,
     "metadata": {},
     "output_type": "execute_result"
    }
   ],
   "source": [
    "info_df.T"
   ]
  },
  {
   "cell_type": "markdown",
   "id": "8cb39d8e-37ed-4bf0-a2e4-0215491d6e27",
   "metadata": {},
   "source": [
    "## index 지정"
   ]
  },
  {
   "cell_type": "code",
   "execution_count": 111,
   "id": "c51f5608-c0f1-41b2-b4a9-1b44f480bdbe",
   "metadata": {},
   "outputs": [],
   "source": [
    "info_df.index = list('abc')"
   ]
  },
  {
   "cell_type": "code",
   "execution_count": 114,
   "id": "2b2ad825-5828-4219-bf3d-6b226dfb41f8",
   "metadata": {},
   "outputs": [
    {
     "data": {
      "text/html": [
       "<div>\n",
       "<style scoped>\n",
       "    .dataframe tbody tr th:only-of-type {\n",
       "        vertical-align: middle;\n",
       "    }\n",
       "\n",
       "    .dataframe tbody tr th {\n",
       "        vertical-align: top;\n",
       "    }\n",
       "\n",
       "    .dataframe thead th {\n",
       "        text-align: right;\n",
       "    }\n",
       "</style>\n",
       "<table border=\"1\" class=\"dataframe\">\n",
       "  <thead>\n",
       "    <tr style=\"text-align: right;\">\n",
       "      <th></th>\n",
       "      <th>name</th>\n",
       "      <th>age</th>\n",
       "    </tr>\n",
       "  </thead>\n",
       "  <tbody>\n",
       "    <tr>\n",
       "      <th>a</th>\n",
       "      <td>lee</td>\n",
       "      <td>20</td>\n",
       "    </tr>\n",
       "    <tr>\n",
       "      <th>b</th>\n",
       "      <td>pyo</td>\n",
       "      <td>22</td>\n",
       "    </tr>\n",
       "    <tr>\n",
       "      <th>c</th>\n",
       "      <td>kim</td>\n",
       "      <td>21</td>\n",
       "    </tr>\n",
       "  </tbody>\n",
       "</table>\n",
       "</div>"
      ],
      "text/plain": [
       "  name  age\n",
       "a  lee   20\n",
       "b  pyo   22\n",
       "c  kim   21"
      ]
     },
     "execution_count": 114,
     "metadata": {},
     "output_type": "execute_result"
    }
   ],
   "source": [
    "info_df"
   ]
  },
  {
   "cell_type": "markdown",
   "id": "c23d6a3a-83d7-43f1-9423-bf6144a65fcc",
   "metadata": {},
   "source": [
    "## column 다루기"
   ]
  },
  {
   "cell_type": "code",
   "execution_count": 116,
   "id": "452937c3-2c5e-4ebe-a98e-4f5c3bb50b9e",
   "metadata": {},
   "outputs": [
    {
     "data": {
      "text/plain": [
       "Index(['name', 'age'], dtype='object')"
      ]
     },
     "execution_count": 116,
     "metadata": {},
     "output_type": "execute_result"
    }
   ],
   "source": [
    "info_df.columns"
   ]
  },
  {
   "cell_type": "code",
   "execution_count": 118,
   "id": "9d42680a-c7c3-41bf-a7ce-5dd6f7382102",
   "metadata": {},
   "outputs": [
    {
     "name": "stdout",
     "output_type": "stream",
     "text": [
      "a    lee\n",
      "b    pyo\n",
      "c    kim\n",
      "Name: name, dtype: object\n",
      "<class 'pandas.core.series.Series'>\n"
     ]
    }
   ],
   "source": [
    "print(info_df['name'])\n",
    "print(type(info_df['name']))"
   ]
  },
  {
   "cell_type": "code",
   "execution_count": 120,
   "id": "7edf4b03-c093-4554-8d5e-c67c9f519683",
   "metadata": {},
   "outputs": [
    {
     "data": {
      "text/html": [
       "<div>\n",
       "<style scoped>\n",
       "    .dataframe tbody tr th:only-of-type {\n",
       "        vertical-align: middle;\n",
       "    }\n",
       "\n",
       "    .dataframe tbody tr th {\n",
       "        vertical-align: top;\n",
       "    }\n",
       "\n",
       "    .dataframe thead th {\n",
       "        text-align: right;\n",
       "    }\n",
       "</style>\n",
       "<table border=\"1\" class=\"dataframe\">\n",
       "  <thead>\n",
       "    <tr style=\"text-align: right;\">\n",
       "      <th></th>\n",
       "      <th>age</th>\n",
       "      <th>name</th>\n",
       "    </tr>\n",
       "  </thead>\n",
       "  <tbody>\n",
       "    <tr>\n",
       "      <th>a</th>\n",
       "      <td>20</td>\n",
       "      <td>lee</td>\n",
       "    </tr>\n",
       "    <tr>\n",
       "      <th>b</th>\n",
       "      <td>22</td>\n",
       "      <td>pyo</td>\n",
       "    </tr>\n",
       "    <tr>\n",
       "      <th>c</th>\n",
       "      <td>21</td>\n",
       "      <td>kim</td>\n",
       "    </tr>\n",
       "  </tbody>\n",
       "</table>\n",
       "</div>"
      ],
      "text/plain": [
       "   age name\n",
       "a   20  lee\n",
       "b   22  pyo\n",
       "c   21  kim"
      ]
     },
     "execution_count": 120,
     "metadata": {},
     "output_type": "execute_result"
    }
   ],
   "source": [
    "info_df[      ['age', 'name']       ]"
   ]
  },
  {
   "cell_type": "code",
   "execution_count": 131,
   "id": "38345ed0-2741-419c-95fa-af85883f1c5a",
   "metadata": {},
   "outputs": [],
   "source": [
    "info_df = info_df.rename(columns = {'name': '알고싶다 너의 이름...'})"
   ]
  },
  {
   "cell_type": "code",
   "execution_count": 132,
   "id": "9822e7e9-7782-4420-b8a4-963cebfda95d",
   "metadata": {},
   "outputs": [
    {
     "data": {
      "text/html": [
       "<div>\n",
       "<style scoped>\n",
       "    .dataframe tbody tr th:only-of-type {\n",
       "        vertical-align: middle;\n",
       "    }\n",
       "\n",
       "    .dataframe tbody tr th {\n",
       "        vertical-align: top;\n",
       "    }\n",
       "\n",
       "    .dataframe thead th {\n",
       "        text-align: right;\n",
       "    }\n",
       "</style>\n",
       "<table border=\"1\" class=\"dataframe\">\n",
       "  <thead>\n",
       "    <tr style=\"text-align: right;\">\n",
       "      <th></th>\n",
       "      <th>알고싶다 너의 이름...</th>\n",
       "      <th>age</th>\n",
       "    </tr>\n",
       "  </thead>\n",
       "  <tbody>\n",
       "    <tr>\n",
       "      <th>a</th>\n",
       "      <td>lee</td>\n",
       "      <td>20</td>\n",
       "    </tr>\n",
       "    <tr>\n",
       "      <th>b</th>\n",
       "      <td>pyo</td>\n",
       "      <td>22</td>\n",
       "    </tr>\n",
       "    <tr>\n",
       "      <th>c</th>\n",
       "      <td>kim</td>\n",
       "      <td>21</td>\n",
       "    </tr>\n",
       "  </tbody>\n",
       "</table>\n",
       "</div>"
      ],
      "text/plain": [
       "  알고싶다 너의 이름...  age\n",
       "a           lee   20\n",
       "b           pyo   22\n",
       "c           kim   21"
      ]
     },
     "execution_count": 132,
     "metadata": {},
     "output_type": "execute_result"
    }
   ],
   "source": [
    "info_df"
   ]
  },
  {
   "cell_type": "code",
   "execution_count": 136,
   "id": "4b6726cd-00e4-4a07-ae74-04c28e456e1e",
   "metadata": {},
   "outputs": [],
   "source": [
    "info_df.rename(columns={'이름': 'last_name'}, inplace=True)"
   ]
  },
  {
   "cell_type": "code",
   "execution_count": 137,
   "id": "9ad05b35-6e81-45ea-a1c3-7999b85a0995",
   "metadata": {},
   "outputs": [
    {
     "data": {
      "text/html": [
       "<div>\n",
       "<style scoped>\n",
       "    .dataframe tbody tr th:only-of-type {\n",
       "        vertical-align: middle;\n",
       "    }\n",
       "\n",
       "    .dataframe tbody tr th {\n",
       "        vertical-align: top;\n",
       "    }\n",
       "\n",
       "    .dataframe thead th {\n",
       "        text-align: right;\n",
       "    }\n",
       "</style>\n",
       "<table border=\"1\" class=\"dataframe\">\n",
       "  <thead>\n",
       "    <tr style=\"text-align: right;\">\n",
       "      <th></th>\n",
       "      <th>알고싶다 너의 이름...</th>\n",
       "      <th>age</th>\n",
       "    </tr>\n",
       "  </thead>\n",
       "  <tbody>\n",
       "    <tr>\n",
       "      <th>a</th>\n",
       "      <td>lee</td>\n",
       "      <td>20</td>\n",
       "    </tr>\n",
       "    <tr>\n",
       "      <th>b</th>\n",
       "      <td>pyo</td>\n",
       "      <td>22</td>\n",
       "    </tr>\n",
       "    <tr>\n",
       "      <th>c</th>\n",
       "      <td>kim</td>\n",
       "      <td>21</td>\n",
       "    </tr>\n",
       "  </tbody>\n",
       "</table>\n",
       "</div>"
      ],
      "text/plain": [
       "  알고싶다 너의 이름...  age\n",
       "a           lee   20\n",
       "b           pyo   22\n",
       "c           kim   21"
      ]
     },
     "execution_count": 137,
     "metadata": {},
     "output_type": "execute_result"
    }
   ],
   "source": [
    "info_df"
   ]
  },
  {
   "cell_type": "code",
   "execution_count": null,
   "id": "90c864c9-f439-4c32-826f-964fb9b286e4",
   "metadata": {},
   "outputs": [],
   "source": []
  }
 ],
 "metadata": {
  "kernelspec": {
   "display_name": "Python 3 (ipykernel)",
   "language": "python",
   "name": "python3"
  },
  "language_info": {
   "codemirror_mode": {
    "name": "ipython",
    "version": 3
   },
   "file_extension": ".py",
   "mimetype": "text/x-python",
   "name": "python",
   "nbconvert_exporter": "python",
   "pygments_lexer": "ipython3",
   "version": "3.13.2"
  }
 },
 "nbformat": 4,
 "nbformat_minor": 5
}
