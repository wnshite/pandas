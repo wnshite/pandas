{
 "cells": [
  {
   "cell_type": "code",
   "execution_count": 31,
   "id": "ed2f28b8-c662-431c-8da1-9764145ee407",
   "metadata": {},
   "outputs": [],
   "source": [
    "import numpy as np   #### -> numpy는 무조건 인덱스 접근.\n",
    "\n",
    "my_array = np.arange(100000)\n",
    "my_list = list(range(100000))"
   ]
  },
  {
   "cell_type": "code",
   "execution_count": 14,
   "id": "2b44f1a1-60bd-45b9-b268-de1760cfa986",
   "metadata": {},
   "outputs": [
    {
     "name": "stdout",
     "output_type": "stream",
     "text": [
      "1.57 ms ± 105 μs per loop (mean ± std. dev. of 7 runs, 100 loops each)\n",
      "46.1 μs ± 731 ns per loop (mean ± std. dev. of 7 runs, 10,000 loops each)\n"
     ]
    }
   ],
   "source": [
    "%timeit my_list2 = [1* 2 for i in my_list]\n",
    "%timeit my_array2 = my_array * 2"
   ]
  },
  {
   "cell_type": "code",
   "execution_count": 17,
   "id": "6d5176bf-6629-4033-9380-a9a7d913287a",
   "metadata": {},
   "outputs": [
    {
     "name": "stdout",
     "output_type": "stream",
     "text": [
      "[[   1.     1.2    3. ]\n",
      " [-123.   123.     0. ]]\n"
     ]
    }
   ],
   "source": [
    "a = [\n",
    "    [1, 1.2, 3],\n",
    "    [-123, 123, 0],\n",
    "]\n",
    "data = np.array(a)\n",
    "print(data) #### -> 데이터의 형을 맞춰주는 함수 np.array()"
   ]
  },
  {
   "cell_type": "code",
   "execution_count": 25,
   "id": "6340ecfa-44b4-43ec-be4e-4f58b472ff17",
   "metadata": {},
   "outputs": [
    {
     "name": "stdout",
     "output_type": "stream",
     "text": [
      "[[   10.    12.    30.]\n",
      " [-1230.  1230.     0.]]\n",
      "[[   2.     2.4    6. ]\n",
      " [-246.   246.     0. ]]\n"
     ]
    }
   ],
   "source": [
    "# 0차원: 스칼라(scala), 1차원: 백터(vector), 2차원: 행렬(matrix), 3차원 이상: 텐서(tenser)\n",
    "# 배열에 좀 더 특화되어있다.\n",
    "print(data * 10 )\n",
    "print(data + data)"
   ]
  },
  {
   "cell_type": "code",
   "execution_count": 32,
   "id": "1523d0b2-c5fd-4039-8dfa-59c7a7b45202",
   "metadata": {},
   "outputs": [
    {
     "name": "stdout",
     "output_type": "stream",
     "text": [
      "(2, 3)\n",
      "float64\n"
     ]
    }
   ],
   "source": [
    "print(data.shape)  ## ex) 가장 바깥에 2개의 배열, 그 안에 3개의 배열\n",
    "print(data.dtype)  ## float데이터가 64비트로 이루어져 있다."
   ]
  },
  {
   "cell_type": "markdown",
   "id": "e11151a6-aaf8-4278-bc21-d9d4457ade64",
   "metadata": {},
   "source": [
    "## ndarray 생성하기"
   ]
  },
  {
   "cell_type": "code",
   "execution_count": 37,
   "id": "afdfb0b9-88bf-4fd9-b511-7700346c7ac3",
   "metadata": {},
   "outputs": [
    {
     "name": "stdout",
     "output_type": "stream",
     "text": [
      "[1 2 3 4 5]\n",
      "<class 'numpy.ndarray'>\n"
     ]
    }
   ],
   "source": [
    "data1 = [1, 2, 3, 4, 5]\n",
    "arr1 = np.array(data1)\n",
    "print(arr1)\n",
    "print(type(arr1))"
   ]
  },
  {
   "cell_type": "code",
   "execution_count": 43,
   "id": "e8378a0b-dd32-4bf3-9302-d5b15a543724",
   "metadata": {},
   "outputs": [
    {
     "name": "stdout",
     "output_type": "stream",
     "text": [
      "[[1.1 1.2]\n",
      " [3.3 4.4]]\n",
      "<class 'numpy.ndarray'>\n"
     ]
    }
   ],
   "source": [
    "arr2 = np.array([[1.1, 1.2], [3.3, 4.4]])\n",
    "print(arr2)\n",
    "print(type(arr2))"
   ]
  },
  {
   "cell_type": "code",
   "execution_count": 45,
   "id": "aed87480-26b7-4cb8-87a9-26f9dafad1a1",
   "metadata": {},
   "outputs": [
    {
     "name": "stdout",
     "output_type": "stream",
     "text": [
      "1\n",
      "2\n"
     ]
    }
   ],
   "source": [
    "print(arr1.ndim)  ## -> 몇차원인가를 알려줌.\n",
    "print(arr2.ndim)"
   ]
  },
  {
   "cell_type": "code",
   "execution_count": 46,
   "id": "5fdc69b4-8549-4608-b9e1-3490a1070ce2",
   "metadata": {},
   "outputs": [
    {
     "name": "stdout",
     "output_type": "stream",
     "text": [
      "(5,)\n",
      "(2, 2)\n"
     ]
    }
   ],
   "source": [
    "print(arr1.shape)\n",
    "print(arr2.shape)"
   ]
  },
  {
   "cell_type": "code",
   "execution_count": 56,
   "id": "c2f8a4ea-9d4b-4a5f-bb3b-eaadbaf941dd",
   "metadata": {},
   "outputs": [
    {
     "name": "stdout",
     "output_type": "stream",
     "text": [
      "[0. 0. 0. 0. 0. 0. 0. 0. 0. 0.]\n",
      "[[0. 0. 0. 0. 0.]\n",
      " [0. 0. 0. 0. 0.]\n",
      " [0. 0. 0. 0. 0.]\n",
      " [0. 0. 0. 0. 0.]\n",
      " [0. 0. 0. 0. 0.]]\n",
      "[[[0. 0.]\n",
      "  [0. 0.]]\n",
      "\n",
      " [[0. 0.]\n",
      "  [0. 0.]]]\n"
     ]
    }
   ],
   "source": [
    "print(np.zeros(10))\n",
    "# print([0] * 10)\n",
    "print(np.zeros(    [5, 5]    )     )\n",
    "print(np.empty((2, 2, 2)))"
   ]
  },
  {
   "cell_type": "code",
   "execution_count": 59,
   "id": "68c2f7d4-f458-4164-8f12-de039efd3b05",
   "metadata": {},
   "outputs": [
    {
     "name": "stdout",
     "output_type": "stream",
     "text": [
      "[0 1 2 3 4 5 6 7 8 9]\n"
     ]
    }
   ],
   "source": [
    "print(np.arange(10))"
   ]
  },
  {
   "cell_type": "markdown",
   "id": "f45cdd18-f215-49af-9996-cf08ac884d51",
   "metadata": {},
   "source": [
    "## ndarray 자료형"
   ]
  },
  {
   "cell_type": "code",
   "execution_count": 71,
   "id": "19c7b67a-bb7b-478a-ac00-7b88cdfc4240",
   "metadata": {},
   "outputs": [
    {
     "name": "stdout",
     "output_type": "stream",
     "text": [
      "float64\n",
      "int32\n"
     ]
    }
   ],
   "source": [
    "arr1 = np.array([1, 2, 3], dtype=np.float64)  \n",
    "arr2 = np.array([1, 2, 3], dtype=np.int32)\n",
    "\n",
    "print(arr1.dtype)\n",
    "print(arr2.dtype)"
   ]
  },
  {
   "cell_type": "code",
   "execution_count": 72,
   "id": "26f97e33-edb2-45cc-95eb-7ade248535ef",
   "metadata": {},
   "outputs": [
    {
     "name": "stdout",
     "output_type": "stream",
     "text": [
      "int64\n",
      "[1. 2. 3.]\n",
      "float64\n"
     ]
    }
   ],
   "source": [
    "arr1 = np.array([1, 2, 3])   ## -> 명시적으로 형변환 할때 사용.\n",
    "print(arr1.dtype)\n",
    "float_arr1 = arr1.astype(np.float64)\n",
    "print(float_arr1)\n",
    "print(float_arr1.dtype)"
   ]
  },
  {
   "cell_type": "code",
   "execution_count": 79,
   "id": "2557286f-01c7-400c-ab6d-4d50442da46a",
   "metadata": {},
   "outputs": [
    {
     "name": "stdout",
     "output_type": "stream",
     "text": [
      "float64\n",
      "[1 2 3]\n",
      "int64\n"
     ]
    }
   ],
   "source": [
    "arr2 = np.array([1.1, 2.2, 3.3])  ### -> 소수점 뒤에 자리는 버림. float도 int로 바꿀 수 있음. int도 float로 가능(astype 사용)\n",
    "print(arr2.dtype)\n",
    "int_arr2 = arr2.astype(np.int64)\n",
    "print(int_arr2)\n",
    "print(int_arr2.dtype)"
   ]
  },
  {
   "cell_type": "markdown",
   "id": "6171ac46-5df8-4262-bcc1-8b921fee9182",
   "metadata": {},
   "source": [
    "## 산술 연산"
   ]
  },
  {
   "cell_type": "code",
   "execution_count": 85,
   "id": "abeec2bc-9c3b-4d27-a6f1-c68afe3de218",
   "metadata": {},
   "outputs": [
    {
     "name": "stdout",
     "output_type": "stream",
     "text": [
      "[[4 5 6]\n",
      " [1 2 3]]\n",
      "[[16 25 36]\n",
      " [ 1  4  9]]\n",
      "[[ 8 10 12]\n",
      " [ 2  4  6]]\n",
      "[[0.25       0.2        0.16666667]\n",
      " [1.         0.5        0.33333333]]\n",
      "[[ 64 125 216]\n",
      " [  1   8  27]]\n"
     ]
    }
   ],
   "source": [
    "arr = np.array([[4, 5, 6], [1, 2, 3]])\n",
    "print(arr)\n",
    "print(arr * arr)\n",
    "print(arr + arr)\n",
    "print(1/arr)\n",
    "print(arr ** 3)  ## -> 같은 위치의 데이터 가능."
   ]
  },
  {
   "cell_type": "code",
   "execution_count": 92,
   "id": "e2c69e98-e1a9-401c-847f-e5ed699305fa",
   "metadata": {},
   "outputs": [
    {
     "name": "stdout",
     "output_type": "stream",
     "text": [
      "[[4 5 6]\n",
      " [1 2 3]]\n",
      "[[3 2 1]\n",
      " [1 2 3]]\n",
      "[[ True  True  True]\n",
      " [False False False]]\n",
      "[[False False False]\n",
      " [False False  True]]\n"
     ]
    }
   ],
   "source": [
    "arr2 = np.array([[3, 2, 1], [1, 2, 3]])\n",
    "print(arr)\n",
    "print(arr2)\n",
    "print(arr > arr2)   ## -> 전체의 합을 비교하는 것이 아니라, 각각의 위치에 딸려있는 숫자를 비교한다. 그리고 True or False로 출력한다.\n",
    "print(arr == 3)"
   ]
  },
  {
   "cell_type": "markdown",
   "id": "2812d853-b263-4e4f-82a7-eb0c23d2fdf0",
   "metadata": {},
   "source": [
    "## 색인과 슬라이싱"
   ]
  },
  {
   "cell_type": "code",
   "execution_count": 94,
   "id": "b2f0a556-f467-44eb-9dc5-44541caae65b",
   "metadata": {},
   "outputs": [
    {
     "name": "stdout",
     "output_type": "stream",
     "text": [
      "[0 1 2 3 4 5 6 7 8 9]\n"
     ]
    }
   ],
   "source": [
    "arr = np.arange(10)\n",
    "print(arr)"
   ]
  },
  {
   "cell_type": "code",
   "execution_count": 96,
   "id": "382208fa-474f-459e-90a1-baf468d0e348",
   "metadata": {},
   "outputs": [
    {
     "name": "stdout",
     "output_type": "stream",
     "text": [
      "5\n",
      "[2 3 4]\n"
     ]
    }
   ],
   "source": [
    "print(arr[5])\n",
    "print(arr[2:5])"
   ]
  },
  {
   "cell_type": "code",
   "execution_count": 98,
   "id": "42394803-5ea9-4df6-8c2c-abd766ea70ef",
   "metadata": {},
   "outputs": [
    {
     "name": "stdout",
     "output_type": "stream",
     "text": [
      "[ 0  1 10 10 10  5  6  7  8  9]\n"
     ]
    }
   ],
   "source": [
    "arr[2:5] = 10\n",
    "print(arr)"
   ]
  },
  {
   "cell_type": "code",
   "execution_count": 99,
   "id": "9357653f-0493-4cb5-90d4-3f80a4986715",
   "metadata": {},
   "outputs": [
    {
     "name": "stdout",
     "output_type": "stream",
     "text": [
      "[ 0  1 10 10  9  9  9  9  9  9]\n"
     ]
    }
   ],
   "source": [
    "arr[4:10] = 9\n",
    "print(arr)"
   ]
  },
  {
   "cell_type": "code",
   "execution_count": 106,
   "id": "039cc014-c6ac-4e7e-b9de-90308426add8",
   "metadata": {},
   "outputs": [
    {
     "name": "stdout",
     "output_type": "stream",
     "text": [
      "[1, 2, 3, 4, 5]\n"
     ]
    }
   ],
   "source": [
    "py_list = [1, 2, 3, 4, 5]\n",
    "py_list[2:3].pop()\n",
    "print(py_list)   ###->원본 그대로 출력되어야함."
   ]
  },
  {
   "cell_type": "code",
   "execution_count": 110,
   "id": "2dd2cde1-5704-4884-bc01-f0b4d9454bda",
   "metadata": {},
   "outputs": [
    {
     "name": "stdout",
     "output_type": "stream",
     "text": [
      "[[1 2 3]\n",
      " [4 5 6]]\n"
     ]
    }
   ],
   "source": [
    "arr = np.array([[1, 2, 3],[4, 5, 6]])\n",
    "print(arr)"
   ]
  },
  {
   "cell_type": "code",
   "execution_count": 117,
   "id": "f4a4e532-7dcc-486b-bceb-e6f856571f86",
   "metadata": {},
   "outputs": [
    {
     "name": "stdout",
     "output_type": "stream",
     "text": [
      "5\n",
      "5\n"
     ]
    }
   ],
   "source": [
    "print(arr[1][1])\n",
    "print(arr[1, 1])"
   ]
  },
  {
   "cell_type": "code",
   "execution_count": 122,
   "id": "0110dd8b-08cc-4450-8319-3529a7bccea6",
   "metadata": {},
   "outputs": [
    {
     "name": "stdout",
     "output_type": "stream",
     "text": [
      "11\n",
      "11\n"
     ]
    }
   ],
   "source": [
    "arr3d = np.array([[[1, 2, 3], [4, 5, 6], [7, 8, 9]], [[10, 11, 12], [13, 14, 15], [16, 17, 18]], [[19, 20, 21], [11, 22, 33], [44, 55, 66]]])\n",
    "print(arr3d[2][1][0])\n",
    "print(arr3d[2, 1, 0])"
   ]
  },
  {
   "cell_type": "code",
   "execution_count": 124,
   "id": "1a90a002-c6b1-4de4-972c-9650c29cdd15",
   "metadata": {},
   "outputs": [
    {
     "data": {
      "text/plain": [
       "array([[[1, 2, 3],\n",
       "        [4, 5, 6],\n",
       "        [7, 8, 9]]])"
      ]
     },
     "execution_count": 124,
     "metadata": {},
     "output_type": "execute_result"
    }
   ],
   "source": [
    "arr3d[:1 ]  ##->0번째 데이터만 출력."
   ]
  },
  {
   "cell_type": "code",
   "execution_count": 127,
   "id": "e2d5f686-f27b-4e9f-8e60-a88adc113c82",
   "metadata": {},
   "outputs": [
    {
     "data": {
      "text/plain": [
       "array([[6],\n",
       "       [9]])"
      ]
     },
     "execution_count": 127,
     "metadata": {},
     "output_type": "execute_result"
    }
   ],
   "source": [
    "arr3d[0, 1:, 2:]  # -> 0은 인덱스 접근이기 때문에, 한 차원을 줄여주게 된다."
   ]
  },
  {
   "cell_type": "code",
   "execution_count": 129,
   "id": "9760f3fa-d151-4053-a950-b0d2bef922bf",
   "metadata": {},
   "outputs": [
    {
     "data": {
      "text/plain": [
       "array([[[6],\n",
       "        [9]]])"
      ]
     },
     "execution_count": 129,
     "metadata": {},
     "output_type": "execute_result"
    }
   ],
   "source": [
    "arr3d[:1, 1:, 2:]  # -> :1은 인덱스 접근이 아니어서, 차원을 줄이지 않는다"
   ]
  },
  {
   "cell_type": "code",
   "execution_count": 132,
   "id": "d1fe0586-b86a-47d8-8373-2652b4fae586",
   "metadata": {},
   "outputs": [
    {
     "name": "stdout",
     "output_type": "stream",
     "text": [
      "[[[   1    2    3]\n",
      "  [   4    5 9999]\n",
      "  [   7    8 9999]]\n",
      "\n",
      " [[  10   11   12]\n",
      "  [  13   14   15]\n",
      "  [  16   17   18]]\n",
      "\n",
      " [[  19   20   21]\n",
      "  [  11   22   33]\n",
      "  [  44   55   66]]]\n"
     ]
    }
   ],
   "source": [
    "arr3d[0, 1:, 2:] = 9999 ## ->6과 9에 있던 데이터들이 모두 9999로 변경.\n",
    "print(arr3d)"
   ]
  },
  {
   "cell_type": "markdown",
   "id": "cb302a47-1089-416d-b0e1-708c82a73785",
   "metadata": {},
   "source": [
    "## 불리언 값으로 선택"
   ]
  },
  {
   "cell_type": "code",
   "execution_count": 139,
   "id": "7f4a7e49-a5cc-483f-a37b-e2b469600353",
   "metadata": {},
   "outputs": [],
   "source": [
    "names = np.array(['hong', 'kim', 'hong', 'kim'])\n",
    "data = np.array([['math', 90],['math', 80],['eng', 70],['eng', 50]])"
   ]
  },
  {
   "cell_type": "code",
   "execution_count": 145,
   "id": "40a54839-5fcc-4c91-bc79-ab03cf9f356d",
   "metadata": {},
   "outputs": [
    {
     "data": {
      "text/plain": [
       "array([False,  True, False,  True])"
      ]
     },
     "execution_count": 145,
     "metadata": {},
     "output_type": "execute_result"
    }
   ],
   "source": [
    "names == 'kim'"
   ]
  },
  {
   "cell_type": "code",
   "execution_count": 148,
   "id": "d34f9479-7d28-4646-a995-f757257b88f5",
   "metadata": {},
   "outputs": [
    {
     "data": {
      "text/plain": [
       "array([['math', '90'],\n",
       "       ['eng', '70']], dtype='<U21')"
      ]
     },
     "execution_count": 148,
     "metadata": {},
     "output_type": "execute_result"
    }
   ],
   "source": [
    "# data[[True, False, True, False]]   -> 내가 원하고 특정 조건에 맞는 데이터를 고를 때 사용.\n",
    "data[names == 'hong']"
   ]
  },
  {
   "cell_type": "code",
   "execution_count": 151,
   "id": "cc423a93-0503-4c3f-acde-b36c7fef7ea5",
   "metadata": {},
   "outputs": [
    {
     "name": "stdout",
     "output_type": "stream",
     "text": [
      "['90' '70']\n",
      "[['math']\n",
      " ['eng']]\n"
     ]
    }
   ],
   "source": [
    "print(data[names == 'hong' , 1])\n",
    "print(data[names == 'hong', :1])"
   ]
  },
  {
   "cell_type": "code",
   "execution_count": 158,
   "id": "698620ee-162c-4890-830b-500e35b5a517",
   "metadata": {},
   "outputs": [
    {
     "name": "stdout",
     "output_type": "stream",
     "text": [
      "[False  True False  True]\n"
     ]
    }
   ],
   "source": [
    "print(names != 'hong')  ##-> 'hong'이 아닌가요? 를 묻는 표현 !="
   ]
  },
  {
   "cell_type": "code",
   "execution_count": 159,
   "id": "e3c506ab-a561-477d-8680-98c1cbee7e1b",
   "metadata": {},
   "outputs": [
    {
     "name": "stdout",
     "output_type": "stream",
     "text": [
      "[False  True False  True]\n"
     ]
    }
   ],
   "source": [
    "print(~(names == 'hong'))  ## -> 'hong'이 아닌가요? 를 묻는 또 다른 표현 ~"
   ]
  },
  {
   "cell_type": "code",
   "execution_count": 162,
   "id": "81c71770-7b37-4dbe-b9f1-e417cc4616f1",
   "metadata": {},
   "outputs": [
    {
     "data": {
      "text/plain": [
       "array([['math', '80'],\n",
       "       ['eng', '50']], dtype='<U21')"
      ]
     },
     "execution_count": 162,
     "metadata": {},
     "output_type": "execute_result"
    }
   ],
   "source": [
    "cond = names == 'kim'  ##-> 앞으로는 cond라는 변수에 넣어 사용할거임.\n",
    "data[cond]"
   ]
  },
  {
   "cell_type": "markdown",
   "id": "d23ec9d9-488b-4d30-baa5-c306256ccea0",
   "metadata": {},
   "source": [
    "## 팬시 색인(fancy indexing)"
   ]
  },
  {
   "cell_type": "code",
   "execution_count": 169,
   "id": "c685c65e-480d-499e-83b2-168bd3d07412",
   "metadata": {},
   "outputs": [
    {
     "name": "stdout",
     "output_type": "stream",
     "text": [
      "[[0. 0. 0. 0.]\n",
      " [1. 1. 1. 1.]\n",
      " [2. 2. 2. 2.]\n",
      " [3. 3. 3. 3.]\n",
      " [4. 4. 4. 4.]\n",
      " [5. 5. 5. 5.]\n",
      " [6. 6. 6. 6.]\n",
      " [7. 7. 7. 7.]]\n"
     ]
    }
   ],
   "source": [
    "arr = np.zeros((8, 4))\n",
    "for i in range(8):\n",
    "    arr[i] = i  ##-> 같은 줄에 있는 거에 같은 데이터가 출력됨.\n",
    "print(arr)"
   ]
  },
  {
   "cell_type": "code",
   "execution_count": 171,
   "id": "1299ab73-388e-4fb7-9fe3-99bd001784cd",
   "metadata": {},
   "outputs": [
    {
     "data": {
      "text/plain": [
       "array([[4., 4., 4., 4.],\n",
       "       [3., 3., 3., 3.],\n",
       "       [0., 0., 0., 0.],\n",
       "       [5., 5., 5., 5.]])"
      ]
     },
     "execution_count": 171,
     "metadata": {},
     "output_type": "execute_result"
    }
   ],
   "source": [
    "arr[[4, 3, 0, 5]]  #-> index에 list를 넣으면 내가 원해서 지정하는대로 만들 수 있음."
   ]
  },
  {
   "cell_type": "code",
   "execution_count": 172,
   "id": "eae67832-9c5e-495a-a476-557f3931f868",
   "metadata": {},
   "outputs": [
    {
     "data": {
      "text/plain": [
       "array([[5., 5., 5., 5.],\n",
       "       [6., 6., 6., 6.],\n",
       "       [7., 7., 7., 7.]])"
      ]
     },
     "execution_count": 172,
     "metadata": {},
     "output_type": "execute_result"
    }
   ],
   "source": [
    "arr[[-3, -2, -1]]"
   ]
  },
  {
   "cell_type": "code",
   "execution_count": 189,
   "id": "77d100b5-3d8f-41f2-95ef-e2979457cf02",
   "metadata": {},
   "outputs": [],
   "source": [
    "arr = np.arange(32).reshape(8, 4)\n",
    "# print(arr)"
   ]
  },
  {
   "cell_type": "code",
   "execution_count": 197,
   "id": "732d9b83-84c9-4fa4-850c-e53ac0634701",
   "metadata": {},
   "outputs": [
    {
     "data": {
      "text/plain": [
       "array([ 6, 23])"
      ]
     },
     "execution_count": 197,
     "metadata": {},
     "output_type": "execute_result"
    }
   ],
   "source": [
    "arr[[1, 5], [2, 3]]"
   ]
  },
  {
   "cell_type": "code",
   "execution_count": 198,
   "id": "94642141-a414-4a50-9049-1f1df6c256d3",
   "metadata": {},
   "outputs": [
    {
     "data": {
      "text/plain": [
       "array([[ 6,  7],\n",
       "       [22, 23]])"
      ]
     },
     "execution_count": 198,
     "metadata": {},
     "output_type": "execute_result"
    }
   ],
   "source": [
    "arr[[1, 5]][:, [2, 3]]"
   ]
  },
  {
   "cell_type": "markdown",
   "id": "925e3ce2-f16f-4c34-b2d4-f5cfeeb24f97",
   "metadata": {},
   "source": [
    "## 배열 전치"
   ]
  },
  {
   "cell_type": "code",
   "execution_count": 201,
   "id": "b32d287e-eb84-47b2-b71a-befbd904cd29",
   "metadata": {},
   "outputs": [
    {
     "name": "stdout",
     "output_type": "stream",
     "text": [
      "[[ 0  1  2  3  4]\n",
      " [ 5  6  7  8  9]\n",
      " [10 11 12 13 14]]\n"
     ]
    }
   ],
   "source": [
    "arr = np.arange(15).reshape(3, 5)\n",
    "print(arr)"
   ]
  },
  {
   "cell_type": "code",
   "execution_count": 203,
   "id": "27c134b6-7c92-4893-b372-b0954c44b939",
   "metadata": {},
   "outputs": [
    {
     "name": "stdout",
     "output_type": "stream",
     "text": [
      "[[ 0  5 10]\n",
      " [ 1  6 11]\n",
      " [ 2  7 12]\n",
      " [ 3  8 13]\n",
      " [ 4  9 14]]\n"
     ]
    }
   ],
   "source": [
    "print(arr.T)"
   ]
  },
  {
   "cell_type": "code",
   "execution_count": 212,
   "id": "45f116d8-59f3-4f1f-a575-02970dc07a4e",
   "metadata": {},
   "outputs": [
    {
     "name": "stdout",
     "output_type": "stream",
     "text": [
      "[[ 30  80 130]\n",
      " [ 80 255 430]\n",
      " [130 430 730]]\n",
      "[[ 30  80 130]\n",
      " [ 80 255 430]\n",
      " [130 430 730]]\n"
     ]
    }
   ],
   "source": [
    "##->행렬의 내적, 곱  - 직접적으로 쓸일은 없지만 알아두기.....\n",
    "print(arr @ arr.T) \n",
    "print(np.dot(arr, arr.T))"
   ]
  },
  {
   "cell_type": "markdown",
   "id": "849f9ea2-a4d5-432e-b17b-73dd5e265814",
   "metadata": {},
   "source": [
    "## numpy 함수"
   ]
  },
  {
   "cell_type": "code",
   "execution_count": 213,
   "id": "8a1f6664-3c82-483f-907d-e46ba34c37f0",
   "metadata": {},
   "outputs": [
    {
     "name": "stdout",
     "output_type": "stream",
     "text": [
      "[[ 0.46205239  0.11909678 -0.68935546]\n",
      " [ 1.04177699  0.2102432  -0.72282223]\n",
      " [ 2.05467776 -1.50516275 -0.37341173]]\n"
     ]
    }
   ],
   "source": [
    "samples = np.random.standard_normal(size=(3, 3))\n",
    "print(samples)"
   ]
  },
  {
   "cell_type": "code",
   "execution_count": 221,
   "id": "a964ab6e-4628-42c2-99f7-f8842705b735",
   "metadata": {},
   "outputs": [
    {
     "name": "stdout",
     "output_type": "stream",
     "text": [
      "[[0.67974436 0.34510401        nan]\n",
      " [1.02067477 0.45852285        nan]\n",
      " [1.43341472        nan        nan]]\n"
     ]
    },
    {
     "name": "stderr",
     "output_type": "stream",
     "text": [
      "C:\\Users\\1-01\\AppData\\Local\\Temp\\ipykernel_15672\\1561689514.py:1: RuntimeWarning: invalid value encountered in sqrt\n",
      "  arr1 = np.sqrt(samples)  ## -> nan(not a number) : 숫자가 음수일때, 데이터를 빈칸으로 만들어버림. 결측치.\n"
     ]
    }
   ],
   "source": [
    "arr1 = np.sqrt(samples)  ## -> nan(not a number) : 숫자가 음수일때, 데이터를 빈칸으로 만들어버림. 결측치.\n",
    "print(arr1)"
   ]
  },
  {
   "cell_type": "code",
   "execution_count": 222,
   "id": "b79b13dd-2dc9-40ca-96fb-7ef77c68d20f",
   "metadata": {},
   "outputs": [
    {
     "name": "stdout",
     "output_type": "stream",
     "text": [
      "[[0.46205239 0.11909678 0.68935546]\n",
      " [1.04177699 0.2102432  0.72282223]\n",
      " [2.05467776 1.50516275 0.37341173]]\n"
     ]
    }
   ],
   "source": [
    "arr2 = np.abs(samples)   ## -> abs: 절댓값으로 바꿈.\n",
    "print(arr2)"
   ]
  },
  {
   "cell_type": "code",
   "execution_count": 223,
   "id": "33bc9424-a0e5-4d5c-b1ed-a31269196dbe",
   "metadata": {},
   "outputs": [
    {
     "data": {
      "text/plain": [
       "array([[False, False,  True],\n",
       "       [False, False,  True],\n",
       "       [False,  True,  True]])"
      ]
     },
     "execution_count": 223,
     "metadata": {},
     "output_type": "execute_result"
    }
   ],
   "source": [
    "np.isnan(arr1)"
   ]
  },
  {
   "cell_type": "code",
   "execution_count": null,
   "id": "255e0503-eb5f-4f36-97d7-018dbc59e9bf",
   "metadata": {},
   "outputs": [],
   "source": []
  }
 ],
 "metadata": {
  "kernelspec": {
   "display_name": "Python 3 (ipykernel)",
   "language": "python",
   "name": "python3"
  },
  "language_info": {
   "codemirror_mode": {
    "name": "ipython",
    "version": 3
   },
   "file_extension": ".py",
   "mimetype": "text/x-python",
   "name": "python",
   "nbconvert_exporter": "python",
   "pygments_lexer": "ipython3",
   "version": "3.13.2"
  }
 },
 "nbformat": 4,
 "nbformat_minor": 5
}
